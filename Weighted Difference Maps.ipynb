{
 "cells": [
  {
   "cell_type": "code",
   "execution_count": 1,
   "metadata": {},
   "outputs": [],
   "source": [
    "import reciprocalspaceship as rs\n",
    "import matplotlib.pyplot as plt\n",
    "import matplotlib ### for grabbing version; comment out for efficiency\n",
    "import numpy as np\n",
    "from scipy.stats import norm, shapiro\n",
    "import scipy ### for grabbing version; comment out for efficiency\n",
    "import glob\n",
    "import subprocess\n",
    "\n",
    "%matplotlib inline"
   ]
  },
  {
   "cell_type": "code",
   "execution_count": 2,
   "metadata": {},
   "outputs": [
    {
     "name": "stdout",
     "output_type": "stream",
     "text": [
      "reciprocalspaceship version: 0.9.5\n",
      "matplotlib version: 3.3.2\n",
      "numpy version: 1.19.2\n",
      "scipy version: 1.5.2\n"
     ]
    }
   ],
   "source": [
    "### document version of libraries used\n",
    "\n",
    "print(\"reciprocalspaceship version: {}\".format(rs.__version__))\n",
    "print(\"matplotlib version: {}\".format(matplotlib.__version__))\n",
    "print(\"numpy version: {}\".format(np.__version__))\n",
    "print(\"scipy version: {}\".format(scipy.__version__))"
   ]
  },
  {
   "cell_type": "markdown",
   "metadata": {},
   "source": [
    "# Library of Functions for Map Making"
   ]
  },
  {
   "cell_type": "code",
   "execution_count": 2,
   "metadata": {},
   "outputs": [],
   "source": [
    "def compute_weights(df, sigdf, alpha=0):\n",
    "    \"\"\"\n",
    "    Compute weights for each structure factor based on deltaF and its uncertainty\n",
    "    \"\"\"\n",
    "    w = (1 + (sigdf**2 / (sigdf**2).mean()) + alpha*(df**2 / (df**2).mean()))\n",
    "    return w**-1\n",
    "\n",
    "def difference_map(ground_state_mtz, excited_state_mtz, alpha, phase_pdb_mtz, output_string_mtz):\n",
    "    ground = rs.read_mtz(ground_state_mtz)\n",
    "    excited = rs.read_mtz(excited_state_mtz)\n",
    "    diff = ground.merge(excited, left_index=True, right_index=True, suffixes=(\"_ground\", \"_excited\"))\n",
    "    diff[\"DF\"] = (diff[\"FOBS_excited\"] - diff[\"FOBS_ground\"]).astype(\"SFAmplitude\")\n",
    "    diff[\"SigDF\"] = np.sqrt(diff[\"SIGFOBS_excited\"]**2 + diff[\"SIGFOBS_ground\"]**2).astype(\"Stddev\")\n",
    "    diff[\"W\"] = compute_weights(diff[\"DF\"], diff[\"SigDF\"], alpha)\n",
    "    diff[\"WDF\"] = (diff[\"W\"]*diff[\"DF\"]).astype(\"F\")\n",
    "    ref = rs.read_mtz(phase_pdb_mtz)\n",
    "    diff[\"PHIFMODEL\"] = ref.loc[diff.index, \"PHIFMODEL\"]\n",
    "    diff.write_mtz(output_string_mtz)\n",
    "    return\n",
    "\n",
    "def extrapolated_map(ground_state_mtz, excited_state_mtz, r_free_mtz, alpha, N, phase_pdb_mtz, output_string_mtz):\n",
    "    ground = rs.read_mtz(ground_state_mtz)\n",
    "    excited = rs.read_mtz(excited_state_mtz)\n",
    "    r_free_mtz = rs.read_mtz(r_free_mtz)\n",
    "    extrap = ground.merge(excited, left_index=True, right_index=True, suffixes=(\"_ground\", \"_excited\"))\n",
    "    extrap[\"DF\"] = (extrap[\"FOBS_excited\"] - extrap[\"FOBS_ground\"]).astype(\"SFAmplitude\")\n",
    "    extrap[\"SigDF\"] = np.sqrt(extrap[\"SIGFOBS_excited\"]**2 + extrap[\"SIGFOBS_ground\"]**2).astype(\"Stddev\")\n",
    "    extrap[\"W\"] = compute_weights(extrap[\"DF\"], extrap[\"SigDF\"], alpha)\n",
    "    extrap[\"WDF\"] = (extrap[\"W\"]*extrap[\"DF\"]).astype(\"F\")\n",
    "    extrap[\"WSigDF\"] = np.sqrt(extrap[\"W\"]**2 * extrap[\"SigDF\"]**2).astype(\"Stddev\")\n",
    "    extrap[\"ExWDF\"] = (extrap[\"FOBS_ground\"] + N*extrap[\"WDF\"]).astype(\"F\")\n",
    "    extrap[\"ExWSigDF\"] = np.sqrt(extrap[\"SIGFOBS_ground\"]**2 + N**2 * extrap[\"WSigDF\"]**2).astype(\"Stddev\")\n",
    "    ref = rs.read_mtz(phase_pdb_mtz)\n",
    "    extrap[\"PHIFMODEL\"] = ref.loc[extrap.index, \"PHIFMODEL\"]\n",
    "    extrap[\"FreeR_flag\"] = r_free_mtz[\"FreeR_flag\"].reindex(extrap.index, fill_value=0)\n",
    "    extrap.write_mtz(output_string_mtz)\n",
    "    return"
   ]
  },
  {
   "cell_type": "markdown",
   "metadata": {},
   "source": [
    "# Make Weighted Difference maps"
   ]
  },
  {
   "cell_type": "code",
   "execution_count": 60,
   "metadata": {},
   "outputs": [],
   "source": [
    "### timepoints\n",
    "difference_map(\"dark2/lys_20ns_540uJ_cutoff1-57_ref_dark2_s0_mark0_flags_asF.mtz\", \"20ns/lys_20ns_540uJ_flags_asF.mtz\", 0.05, \"multicopy_refinement_round2/step2/F_internal_20ns_540uJ_extrapmap_W0-05_N1/lys_true_dark_refine_005_removeRFreeREMARK_refine_001.pdb.mtz\", \"weighted_difference_maps_refinedPHI/F_internal_20ns_540uJ_diffmap_W0-05.mtz\")\n",
    "difference_map(\"dark2/lys_20us_540uJ_cutoff1-57_ref_dark2_s0_mark0_flags_asF.mtz\", \"20us/lys_20us_540uJ_flags_asF.mtz\", 0.05, \"multicopy_refinement_round2/step2/F_internal_20us_540uJ_extrapmap_W0-05_N1/lys_true_dark_refine_005_removeRFreeREMARK_refine_001.pdb.mtz\", \"weighted_difference_maps_refinedPHI/F_internal_20us_540uJ_diffmap_W0-05.mtz\")\n",
    "difference_map(\"dark2/lys_200us_540uJ_cutoff1-57_ref_dark2_s0_mark0_flags_asF.mtz\", \"200us/lys_200us_540uJ_flags_asF.mtz\", 0.05, \"multicopy_refinement_round2/step2/F_internal_200us_540uJ_extrapmap_W0-05_N1/lys_true_dark_refine_005_removeRFreeREMARK_refine_001.pdb.mtz\", \"weighted_difference_maps_refinedPHI/F_internal_200us_540uJ_diffmap_W0-05.mtz\")\n",
    "\n",
    "difference_map(\"dark2/lys_chito_20ns_540uJ_cutoff1-48_dark2_s0_mark0_flags_asF.mtz\", \"lys_chito_20ns/lys_chito_20ns_540uJ_cutoff1-48_ref_s0_mark0_flags_asF.mtz\", 0.05, \"multicopy_refinement_round2/step2/F_internal_chito_20ns_540uJ_extrapmap_W0-05_N1/chito-coot-11.updated_refine_001_refine_001.pdb.mtz\", \"weighted_difference_maps_refinedPHI/F_internal_chito_20ns_540uJ_diffmap_W0-05.mtz\")\n",
    "difference_map(\"dark2/lys_chito_200us_540uJ_cutoff1-5_ref_dark2_s0_mark0_flags_asF.mtz\", \"lys_chito_200us/lys_chito_200us_540uJ_cutoff1-5_ref_s0_mark0_flags_asF.mtz\", 0.05, \"multicopy_refinement_round2/step2/F_internal_chito_200us_540uJ_extrapmap_W0-05_N1/chito-coot-11.updated_refine_001_refine_001.pdb.mtz\", \"weighted_difference_maps_refinedPHI/F_internal_chito_200us_540uJ_diffmap_W0-05.mtz\")\n",
    "\n",
    "\n",
    "### controls\n",
    "difference_map(\"dark2/lys_20ns_540uJ_cutoff1-57_ref_dark2_s0_mark0_flags_asF.mtz\", \"dark1/lys_20ns_540uJ_cutoff1-57_ref_dark1_s0_mark0_flags_asF.mtz\", 0.05, \"multicopy_refinement_round2/step2/F_internal_control_20ns_540uJ_extrapmap_W0-05_N1/lys_true_dark_refine_005_removeRFreeREMARK_refine_001.pdb.mtz\", \"weighted_difference_maps_refinedPHI/F_internal_control_20ns_540uJ_diffmap_W0-05.mtz\")\n",
    "difference_map(\"dark2/lys_20us_540uJ_cutoff1-57_ref_dark2_s0_mark0_flags_asF.mtz\", \"dark1/lys_20us_540uJ_cutoff1-57_ref_dark1_s0_mark0_flags_asF.mtz\", 0.05, \"multicopy_refinement_round2/step2/F_internal_control_20us_540uJ_extrapmap_W0-05_N1/lys_true_dark_refine_005_removeRFreeREMARK_refine_001.pdb.mtz\", \"weighted_difference_maps_refinedPHI/F_internal_control_20us_540uJ_diffmap_W0-05.mtz\")\n",
    "difference_map(\"dark2/lys_200us_540uJ_cutoff1-57_ref_dark2_s0_mark0_flags_asF.mtz\", \"dark1/lys_200us_540uJ_cutoff1-57_ref_dark1_s0_mark0_flags_asF.mtz\", 0.05, \"multicopy_refinement_round2/step2/F_internal_control_200us_540uJ_extrapmap_W0-05_N1/lys_true_dark_refine_005_removeRFreeREMARK_refine_001.pdb.mtz\", \"weighted_difference_maps_refinedPHI/F_internal_control_200us_540uJ_diffmap_W0-05.mtz\")\n",
    "\n",
    "difference_map(\"dark2/lys_chito_20ns_540uJ_cutoff1-48_dark2_s0_mark0_flags_asF.mtz\", \"dark1/lys_chito_20ns_540uJ_cutoff1-48_ref_dark1_s0_mark0_flags_asF.mtz\", 0.05, \"multicopy_refinement_round2/step2/F_internal_control_chito_20ns_540uJ_extrapmap_W0-05_N1/chito-coot-11.updated_refine_001_refine_001.pdb.mtz\", \"weighted_difference_maps_refinedPHI/F_internal_control_chito_20ns_540uJ_diffmap_W0-05.mtz\")\n",
    "difference_map(\"dark2/lys_chito_200us_540uJ_cutoff1-5_ref_dark2_s0_mark0_flags_asF.mtz\", \"dark1/lys_chito_200us_540uJ_cutoff1-5_ref_dark1_s0_mark0_flags_asF.mtz\", 0.05, \"multicopy_refinement_round2/step2/F_internal_control_chito_200us_540uJ_extrapmap_W0-05_N1/chito-coot-11.updated_refine_001_refine_001.pdb.mtz\", \"weighted_difference_maps_refinedPHI/F_internal_control_chito_200us_540uJ_diffmap_W0-05.mtz\")\n"
   ]
  },
  {
   "cell_type": "markdown",
   "metadata": {},
   "source": [
    "# Make Weighted Extrapolated maps"
   ]
  },
  {
   "cell_type": "code",
   "execution_count": 62,
   "metadata": {},
   "outputs": [],
   "source": [
    "### timepoints\n",
    "extrapolated_map(\"dark2/lys_20ns_540uJ_cutoff1-57_ref_dark2_s0_mark0_flags_asF.mtz\", \"20ns/lys_20ns_540uJ_flags_asF.mtz\", \"dark/lys_true_dark__flags.mtz\", 0.05, 1.0, \"multicopy_refinement_round2/step2/F_internal_20ns_540uJ_extrapmap_W0-05_N1/lys_true_dark_refine_005_removeRFreeREMARK_refine_001.pdb.mtz\", \"extrapolated_maps_refinedPHI/F_internal_20ns_540uJ_extrapmap_W0-05_N1.mtz\")\n",
    "extrapolated_map(\"dark2/lys_20us_540uJ_cutoff1-57_ref_dark2_s0_mark0_flags_asF.mtz\", \"20us/lys_20us_540uJ_flags_asF.mtz\", \"dark/lys_true_dark__flags.mtz\", 0.05, 1.0, \"multicopy_refinement_round2/step2/F_internal_20us_540uJ_extrapmap_W0-05_N1/lys_true_dark_refine_005_removeRFreeREMARK_refine_001.pdb.mtz\", \"extrapolated_maps_refinedPHI/F_internal_20us_540uJ_extrapmap_W0-05_N1.mtz\")\n",
    "extrapolated_map(\"dark2/lys_200us_540uJ_cutoff1-57_ref_dark2_s0_mark0_flags_asF.mtz\", \"200us/lys_200us_540uJ_flags_asF.mtz\", \"dark/lys_true_dark__flags.mtz\", 0.05, 1.0, \"multicopy_refinement_round2/step2/F_internal_200us_540uJ_extrapmap_W0-05_N1/lys_true_dark_refine_005_removeRFreeREMARK_refine_001.pdb.mtz\", \"extrapolated_maps_refinedPHI/F_internal_200us_540uJ_extrapmap_W0-05_N1.mtz\")\n",
    "\n",
    "extrapolated_map(\"dark2/lys_chito_20ns_540uJ_cutoff1-48_dark2_s0_mark0_flags_asF.mtz\", \"lys_chito_20ns/lys_chito_20ns_540uJ_cutoff1-48_ref_s0_mark0_flags_asF.mtz\", \"dark/lys_true_dark__flags.mtz\", 0.05, 1.0, \"multicopy_refinement_round2/step2/F_internal_chito_20ns_540uJ_extrapmap_W0-05_N1/chito-coot-11.updated_refine_001_refine_001.pdb.mtz\", \"extrapolated_maps_refinedPHI/F_internal_chito_20ns_540uJ_extrapmap_W0-05_N1.mtz\")\n",
    "extrapolated_map(\"dark2/lys_chito_200us_540uJ_cutoff1-5_ref_dark2_s0_mark0_flags_asF.mtz\", \"lys_chito_200us/lys_chito_200us_540uJ_cutoff1-5_ref_s0_mark0_flags_asF.mtz\", \"dark/lys_true_dark__flags.mtz\", 0.05, 1.0, \"multicopy_refinement_round2/step2/F_internal_chito_200us_540uJ_extrapmap_W0-05_N1/chito-coot-11.updated_refine_001_refine_001.pdb.mtz\", \"extrapolated_maps_refinedPHI/F_internal_chito_200us_540uJ_extrapmap_W0-05_N1.mtz\")\n",
    "\n",
    "\n",
    "### controls\n",
    "extrapolated_map(\"dark2/lys_20ns_540uJ_cutoff1-57_ref_dark2_s0_mark0_flags_asF.mtz\", \"dark1/lys_20ns_540uJ_cutoff1-57_ref_dark1_s0_mark0_flags_asF.mtz\", \"dark/lys_true_dark__flags.mtz\", 0.05, 1.0, \"multicopy_refinement_round2/step2/F_internal_control_20ns_540uJ_extrapmap_W0-05_N1/lys_true_dark_refine_005_removeRFreeREMARK_refine_001.pdb.mtz\", \"extrapolated_maps_refinedPHI/F_internal_control_20ns_540uJ_extrapmap_W0-05_N1.mtz\")\n",
    "extrapolated_map(\"dark2/lys_20us_540uJ_cutoff1-57_ref_dark2_s0_mark0_flags_asF.mtz\", \"dark1/lys_20us_540uJ_cutoff1-57_ref_dark1_s0_mark0_flags_asF.mtz\", \"dark/lys_true_dark__flags.mtz\", 0.05, 1.0, \"multicopy_refinement_round2/step2/F_internal_control_20us_540uJ_extrapmap_W0-05_N1/lys_true_dark_refine_005_removeRFreeREMARK_refine_001.pdb.mtz\", \"extrapolated_maps_refinedPHI/F_internal_control_20us_540uJ_extrapmap_W0-05_N1.mtz\")\n",
    "extrapolated_map(\"dark2/lys_200us_540uJ_cutoff1-57_ref_dark2_s0_mark0_flags_asF.mtz\", \"dark1/lys_200us_540uJ_cutoff1-57_ref_dark1_s0_mark0_flags_asF.mtz\", \"dark/lys_true_dark__flags.mtz\", 0.05, 1.0, \"multicopy_refinement_round2/step2/F_internal_control_200us_540uJ_extrapmap_W0-05_N1/lys_true_dark_refine_005_removeRFreeREMARK_refine_001.pdb.mtz\", \"extrapolated_maps_refinedPHI/F_internal_control_200us_540uJ_extrapmap_W0-05_N1.mtz\")\n",
    "\n",
    "extrapolated_map(\"dark2/lys_chito_20ns_540uJ_cutoff1-48_dark2_s0_mark0_flags_asF.mtz\", \"dark1/lys_chito_20ns_540uJ_cutoff1-48_ref_dark1_s0_mark0_flags_asF.mtz\", \"dark/lys_true_dark__flags.mtz\", 0.05, 1.0, \"multicopy_refinement_round2/step2/F_internal_control_chito_20ns_540uJ_extrapmap_W0-05_N1/chito-coot-11.updated_refine_001_refine_001.pdb.mtz\", \"extrapolated_maps_refinedPHI/F_internal_control_chito_20ns_540uJ_extrapmap_W0-05_N1.mtz\")\n",
    "extrapolated_map(\"dark2/lys_chito_200us_540uJ_cutoff1-5_ref_dark2_s0_mark0_flags_asF.mtz\", \"dark1/lys_chito_200us_540uJ_cutoff1-5_ref_dark1_s0_mark0_flags_asF.mtz\", \"dark/lys_true_dark__flags.mtz\", 0.05, 1.0, \"multicopy_refinement_round2/step2/F_internal_control_chito_200us_540uJ_extrapmap_W0-05_N1/chito-coot-11.updated_refine_001_refine_001.pdb.mtz\", \"extrapolated_maps_refinedPHI/F_internal_control_chito_200us_540uJ_extrapmap_W0-05_N1.mtz\")\n"
   ]
  },
  {
   "cell_type": "markdown",
   "metadata": {},
   "source": [
    "# Make Weighted Extrapolated maps with N > 1"
   ]
  },
  {
   "cell_type": "code",
   "execution_count": 8,
   "metadata": {},
   "outputs": [
    {
     "name": "stdout",
     "output_type": "stream",
     "text": [
      "20.0\n"
     ]
    }
   ],
   "source": [
    "# for extrap_value in range(1,21):\n",
    "#     ### timepoints\n",
    "#     extrapolated_map(\"dark2/lys_200us_540uJ_cutoff1-57_ref_dark2_s0_mark0_flags_asF.mtz\", \"200us/lys_200us_540uJ_flags_asF.mtz\", \"dark/lys_true_dark__flags.mtz\", 0.05, float(extrap_value), \"multicopy_refinement_round2/step2/F_internal_200us_540uJ_extrapmap_W0-05_N1/lys_true_dark_refine_005_removeRFreeREMARK_refine_001.pdb.mtz\", \"extrapolated_maps_refinedPHI/F_internal_200us_540uJ_extrapmap_W0-05_N{}.mtz\".format(str(extrap_value)))\n",
    "#     extrapolated_map(\"dark2/lys_chito_200us_540uJ_cutoff1-5_ref_dark2_s0_mark0_flags_asF.mtz\", \"lys_chito_200us/lys_chito_200us_540uJ_cutoff1-5_ref_s0_mark0_flags_asF.mtz\", \"dark/lys_true_dark__flags.mtz\", 0.05, float(extrap_value), \"multicopy_refinement_round2/step2/F_internal_chito_200us_540uJ_extrapmap_W0-05_N1/chito-coot-11.updated_refine_001_refine_001.pdb.mtz\", \"extrapolated_maps_refinedPHI/F_internal_chito_200us_540uJ_extrapmap_W0-05_N{}.mtz\".format(str(extrap_value)))\n",
    "#     extrapolated_map(\"dark2/lys_20us_540uJ_cutoff1-57_ref_dark2_s0_mark0_flags_asF.mtz\", \"20us/lys_20us_540uJ_flags_asF.mtz\", \"dark/lys_true_dark__flags.mtz\", 0.05, float(extrap_value), \"multicopy_refinement_round2/step2/F_internal_20us_540uJ_extrapmap_W0-05_N1/lys_true_dark_refine_005_removeRFreeREMARK_refine_001.pdb.mtz\", \"extrapolated_maps_refinedPHI/F_internal_20us_540uJ_extrapmap_W0-05_N{}.mtz\".format(str(extrap_value)))\n",
    "#     extrapolated_map(\"dark2/lys_20ns_540uJ_cutoff1-57_ref_dark2_s0_mark0_flags_asF.mtz\", \"20ns/lys_20ns_540uJ_flags_asF.mtz\", \"dark/lys_true_dark__flags.mtz\", 0.05, float(extrap_value), \"multicopy_refinement_round2/step2/F_internal_20ns_540uJ_extrapmap_W0-05_N1/lys_true_dark_refine_005_removeRFreeREMARK_refine_001.pdb.mtz\", \"extrapolated_maps_refinedPHI/F_internal_20ns_540uJ_extrapmap_W0-05_N{}.mtz\".format(str(extrap_value)))\n",
    "#     extrapolated_map(\"dark2/lys_chito_20ns_540uJ_cutoff1-48_dark2_s0_mark0_flags_asF.mtz\", \"lys_chito_20ns/lys_chito_20ns_540uJ_cutoff1-48_ref_s0_mark0_flags_asF.mtz\", \"dark/lys_true_dark__flags.mtz\", 0.05, float(extrap_value), \"multicopy_refinement_round2/step2/F_internal_chito_20ns_540uJ_extrapmap_W0-05_N1/chito-coot-11.updated_refine_001_refine_001.pdb.mtz\", \"extrapolated_maps_refinedPHI/F_internal_chito_20ns_540uJ_extrapmap_W0-05_N{}.mtz\".format(str(extrap_value)))\n",
    "    \n",
    "    \n",
    "#     ### controls\n",
    "#     extrapolated_map(\"dark2/lys_200us_540uJ_cutoff1-57_ref_dark2_s0_mark0_flags_asF.mtz\", \"dark1/lys_200us_540uJ_cutoff1-57_ref_dark1_s0_mark0_flags_asF.mtz\", \"dark/lys_true_dark__flags.mtz\", 0.05, float(extrap_value), \"multicopy_refinement_round2/step2/F_internal_control_200us_540uJ_extrapmap_W0-05_N1/lys_true_dark_refine_005_removeRFreeREMARK_refine_001.pdb.mtz\", \"extrapolated_maps_refinedPHI/F_internal_control_200us_540uJ_extrapmap_W0-05_N{}.mtz\".format(str(extrap_value)))\n",
    "#     extrapolated_map(\"dark2/lys_chito_200us_540uJ_cutoff1-5_ref_dark2_s0_mark0_flags_asF.mtz\", \"dark1/lys_chito_200us_540uJ_cutoff1-5_ref_dark1_s0_mark0_flags_asF.mtz\", \"dark/lys_true_dark__flags.mtz\", 0.05, float(extrap_value), \"multicopy_refinement_round2/step2/F_internal_control_chito_200us_540uJ_extrapmap_W0-05_N1/chito-coot-11.updated_refine_001_refine_001.pdb.mtz\", \"extrapolated_maps_refinedPHI/F_internal_control_chito_200us_540uJ_extrapmap_W0-05_N{}.mtz\".format(str(extrap_value)))\n",
    "#     extrapolated_map(\"dark2/lys_20us_540uJ_cutoff1-57_ref_dark2_s0_mark0_flags_asF.mtz\", \"dark1/lys_20us_540uJ_cutoff1-57_ref_dark1_s0_mark0_flags_asF.mtz\", \"dark/lys_true_dark__flags.mtz\", 0.05, float(extrap_value), \"multicopy_refinement_round2/step2/F_internal_control_20us_540uJ_extrapmap_W0-05_N1/lys_true_dark_refine_005_removeRFreeREMARK_refine_001.pdb.mtz\", \"extrapolated_maps_refinedPHI/F_internal_control_20us_540uJ_extrapmap_W0-05_N{}.mtz\".format(str(extrap_value)))\n",
    "#     extrapolated_map(\"dark2/lys_20ns_540uJ_cutoff1-57_ref_dark2_s0_mark0_flags_asF.mtz\", \"dark1/lys_20ns_540uJ_cutoff1-57_ref_dark1_s0_mark0_flags_asF.mtz\", \"dark/lys_true_dark__flags.mtz\", 0.05, float(extrap_value), \"multicopy_refinement_round2/step2/F_internal_control_20ns_540uJ_extrapmap_W0-05_N1/lys_true_dark_refine_005_removeRFreeREMARK_refine_001.pdb.mtz\", \"extrapolated_maps_refinedPHI/F_internal_control_20ns_540uJ_extrapmap_W0-05_N{}.mtz\".format(str(extrap_value)))\n",
    "#     extrapolated_map(\"dark2/lys_chito_20ns_540uJ_cutoff1-48_dark2_s0_mark0_flags_asF.mtz\", \"dark1/lys_chito_20ns_540uJ_cutoff1-48_ref_dark1_s0_mark0_flags_asF.mtz\", \"dark/lys_true_dark__flags.mtz\", 0.05, float(extrap_value), \"multicopy_refinement_round2/step2/F_internal_control_chito_20ns_540uJ_extrapmap_W0-05_N1/chito-coot-11.updated_refine_001_refine_001.pdb.mtz\", \"extrapolated_maps_refinedPHI/F_internal_control_chito_20ns_540uJ_extrapmap_W0-05_N{}.mtz\".format(str(extrap_value)))\n",
    "#     print(float(extrap_value))"
   ]
  }
 ],
 "metadata": {
  "kernelspec": {
   "display_name": "Python 3",
   "language": "python",
   "name": "python3"
  },
  "language_info": {
   "codemirror_mode": {
    "name": "ipython",
    "version": 3
   },
   "file_extension": ".py",
   "mimetype": "text/x-python",
   "name": "python",
   "nbconvert_exporter": "python",
   "pygments_lexer": "ipython3",
   "version": "3.8.5"
  }
 },
 "nbformat": 4,
 "nbformat_minor": 4
}
