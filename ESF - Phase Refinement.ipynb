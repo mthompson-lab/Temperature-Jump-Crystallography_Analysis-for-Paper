{
 "cells": [
  {
   "cell_type": "markdown",
   "metadata": {},
   "source": [
    "# Objective\n",
    "\n",
    "To create a pipeline for extrapolated structure factor refinement which modifies phases using solvent flattening, with the aim of better approximating the excited state structure factors.\n",
    "\n",
    "\n",
    "\n",
    "\n",
    "# Workflow\n",
    "\n",
    "1) ${F}_{\\Delta} = {F}_{timepoint} - {F}_{ground}$\n",
    "\n",
    "2) $\\Delta$ Electron Density Map = Fourier transform using ${F}_{\\Delta}$ and ${\\phi}_{ground}$\n",
    "\n",
    "3) Solvent flattening of difference map\n",
    "  \n",
    "      difference map values > defined cutoff distance from excited model = new solvent value (0?)\n",
    "  \n",
    "4) FT flattened difference map to get $\\phi_\\Delta$\n",
    "\n",
    "5) $\\overrightarrow{F}_{excited} = \\overrightarrow{F}_{ground} + n*\\overrightarrow{F}_{\\Delta}$\n",
    "  \n",
    "      n is extrapolation value and will be sampled across range\n",
    "  \n",
    "6) phenix.refine ground state model (round 0) or previous round's model (round 1..n) against $\\overrightarrow{F}_{excited}$\n",
    "\n",
    "7) new model from step 6 is used to generate $\\phi_{excited}$\n",
    "\n",
    "8) $\\phi_{new} = (1-n)*\\phi_{ground} + n*\\phi_{excited}$\n",
    "\n",
    "9) Return to step 2, replacing $\\phi_{ground}$ with $\\phi_{new}$ and iterate until convergence\n",
    "\n"
   ]
  },
  {
   "cell_type": "markdown",
   "metadata": {},
   "source": [
    "# Required Functions\n",
    "\n",
    "1. **subtract_structure_factor_magnitudes()**\n",
    "    1. input: two sets of fourier magnitudes, weighting value\n",
    "    2. output: one set of fourier magnitudes\n",
    "    3. notes: HKLs must match up...any other scaling considerations?\n",
    "    \n",
    "2. **structure_factors_to_electron_density()**\n",
    "    1. input: one set of fourier magnitudes, one set of phase angles, unit cell dimensions\n",
    "    2. output: array containing electron density values for one unit cell\n",
    "    3. notes: review Reciprocalspaceship to confirm details\n",
    "    \n",
    "3. **electron_density_solvent_flattening()**\n",
    "    1. input: one array containing density values, one PDB mapped to same unit cell as array\n",
    "    2. output: one array containing adjusted density values\n",
    "    3. notes: review details for mapping of model and density to ensure orientation is correct etc\n",
    "    \n",
    "4. **electron_density_to_structure_factor_vectors()\n",
    "    1. input: one MTZ containing electron density coefficients, one PDB\n",
    "    2. output: complex structure factors, separated into magnitudes and phases\n",
    "    3. notes: ...details to be determined\n",
    "    \n",
    "5. structure_factor_vectors_extrapolation\n",
    "    1. input: two sets of complex structure factors, extrapolation value, weighting value\n",
    "    2. output: one set of complex structure factors\n",
    "    3. notes: ...\n",
    "    \n",
    "6. add_structure_factor_phases\n",
    "    1. input: two sets of phase angles, two weighting values corresponding to occupancy for both excited and ground states\n",
    "    2. output: one set of phase angles\n",
    "    3. notes: double check trig and details for combining phases\n",
    "    \n",
    "    "
   ]
  },
  {
   "cell_type": "code",
   "execution_count": null,
   "metadata": {},
   "outputs": [],
   "source": []
  }
 ],
 "metadata": {
  "kernelspec": {
   "display_name": "Python 3",
   "language": "python",
   "name": "python3"
  },
  "language_info": {
   "codemirror_mode": {
    "name": "ipython",
    "version": 3
   },
   "file_extension": ".py",
   "mimetype": "text/x-python",
   "name": "python",
   "nbconvert_exporter": "python",
   "pygments_lexer": "ipython3",
   "version": "3.8.5"
  }
 },
 "nbformat": 4,
 "nbformat_minor": 4
}
